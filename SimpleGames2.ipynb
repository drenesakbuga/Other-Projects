{
 "cells": [
  {
   "cell_type": "markdown",
   "id": "45db6b48-edd8-4ab5-a02c-07a1b887b385",
   "metadata": {},
   "source": [
    "**Random Password Generator**"
   ]
  },
  {
   "cell_type": "code",
   "execution_count": null,
   "id": "7aeb0aab-8afd-4d3d-bf0b-d36c68bb0386",
   "metadata": {
    "tags": []
   },
   "outputs": [],
   "source": [
    "import random\n",
    "passlenght = int(input('Enter the length of your password')\n",
    "\n",
    "A=\"abcdefghijklmnopqrstuxwyz0123456789ABCDEFGHIJKLMNOPRSTUXWYZ!@#$%^&*()_+={}|:?\"\n",
    "B = \"\".join(random.sample(A, passlenght ))\n",
    "print(B)"
   ]
  },
  {
   "cell_type": "markdown",
   "id": "a5982e3e-4f9e-40ec-9b48-c69f7f8dcbe5",
   "metadata": {},
   "source": [
    "**Mad Libs Generator**"
   ]
  },
  {
   "cell_type": "code",
   "execution_count": null,
   "id": "78ea73fc-4a38-4cb5-8925-fb6577dd5fd2",
   "metadata": {
    "tags": []
   },
   "outputs": [],
   "source": [
    "color = input(\"Enter a color: \")\n",
    "pluralnoun = input(\"Enter a plural noun: \")\n",
    "celebrity = input(\"Enter a celebrity: \")\n",
    "\n",
    "print(\"Roses are\", color + \",\", pluralnoun + \" are blue\" + \",\", \"I love\", celebrity + \".\")"
   ]
  },
  {
   "cell_type": "markdown",
   "id": "cc76daf7-50c9-48e1-afce-c128519d3981",
   "metadata": {},
   "source": [
    "**Guess The Number Game**"
   ]
  },
  {
   "cell_type": "code",
   "execution_count": null,
   "id": "eab93de3-138a-4771-a2ee-f1afe42fb99c",
   "metadata": {
    "jupyter": {
     "source_hidden": true
    },
    "tags": []
   },
   "outputs": [],
   "source": [
    "import random\n",
    "number = random.randint(1, 10)\n",
    "\n",
    "for i in range(0,3):\n",
    "    user = int(input(\"Guess the number\"))\n",
    "    if user == number:\n",
    "        print(\"Hurray!!\")\n",
    "        print(f\"you guessed the number right it's {number}\")\n",
    "        break\n",
    "    elif user > number:\n",
    "        print(\"Your guess is too high\")\n",
    "    elif user < number:\n",
    "        print(\"Your guess is too low.\")\n",
    "else:\n",
    "    print(f\"Nice Try!, but the number is {number}\")"
   ]
  },
  {
   "cell_type": "markdown",
   "id": "c84b9238-8b02-4e7f-a57d-8b5b6dae703e",
   "metadata": {},
   "source": [
    "**Story Generator**"
   ]
  },
  {
   "cell_type": "code",
   "execution_count": null,
   "id": "64489d4b-0185-4d2c-a58d-9cc665ffed1b",
   "metadata": {
    "jupyter": {
     "source_hidden": true
    },
    "tags": []
   },
   "outputs": [],
   "source": [
    "import random\n",
    "when = [\"Once upon a time\", \"A few years ago\", \"Yesterday\", \"Last year\", \"A long time ago\", \"On 20th Jan\"]\n",
    "who = [\"a dog\", \"an elephant\", \"a mouse\", \"a turtle\", \"a cat\"]\n",
    "name = [\"Enes\", \"Ahmet\", \"Daniel\", \"Jack\", \"Daniel\", \"Danielle\", \"Leah\", \"Maureen\"]\n",
    "residence = [\"Istanbul\", \"Gonya\", \"Des Moines\", \"Austin\", \"England\", \"Tilburg\"]\n",
    "went = [\"Aldi\", \"school\", \"home\", \"comedy show\", \"coffee shop\", \"work\"]\n",
    "happened = [\"played piano\", \"ate sushi\", \"drank water\", \"wrote a book\", \"solved a mystery\"]\n",
    "\n",
    "print(random.choice(when) + \", \" + random.choice(who) + \" and \" + random.choice(name) + \" went to the \" + random.choice(went) + \" and \" + random.choice(happened) + \". Isn't it amazing?!\")"
   ]
  },
  {
   "cell_type": "markdown",
   "id": "eeaaaebf-3d1c-4f09-86dc-670710c0e8df",
   "metadata": {},
   "source": [
    "**Email Slicer**"
   ]
  },
  {
   "cell_type": "code",
   "execution_count": null,
   "id": "4a40b15c-d62d-4201-94d8-e9447910cec6",
   "metadata": {
    "jupyter": {
     "source_hidden": true
    },
    "tags": []
   },
   "outputs": [],
   "source": [
    "email = input(\"What is your email address?: \").strip()\n",
    "user_name = email[:email.index(\"@\")]\n",
    "domain_name = email[email.index(\"@\") + 1:]\n",
    "message = f\"Your username is '{user_name}' and your domain name is '{domain_name}'\"\n",
    "print(message)"
   ]
  },
  {
   "cell_type": "markdown",
   "id": "4dc0bb8a-8855-4484-8003-518894fceacb",
   "metadata": {},
   "source": [
    "**Email Adress Generator**"
   ]
  },
  {
   "cell_type": "code",
   "execution_count": null,
   "id": "821f70c7-021f-4572-a125-1eeeb268e0bd",
   "metadata": {
    "jupyter": {
     "source_hidden": true
    },
    "tags": []
   },
   "outputs": [],
   "source": [
    "name = input(\"What is your name?: \").strip().lower()\n",
    "lname = input(\"What is your lastname?: \").strip().lower()\n",
    "bday = input(\"What is your birthday?: \").strip()\n",
    "domain = input(\"What domain do you prefer?: \").strip().lower()\n",
    "cters = \"_-.\"\n",
    "\n",
    "email1 = (name + lname + random.choice(cters) + bday + \"@\" + domain + \".com\")\n",
    "email2 = (bday + random.choice(cters) + name + lname + \"@\" + domain + \".com\")\n",
    "email3 = (name + bday + random.choice(cters) + lname + \"@\" + domain + \".com\")\n",
    "email4 = (name[0] + lname + bday + \"@\" + domain + \".com\")\n",
    "email5 = (name[0] + lname + random.choice(cters) + bday + \"@\" + domain + \".com\")\n",
    "\n",
    "emails = [email1, email2, email3, email4, email5]\n",
    "final = random.choice(emails)\n",
    "print(final)"
   ]
  },
  {
   "cell_type": "markdown",
   "id": "9febf6b8-b6a9-484e-8b70-407546d4aa55",
   "metadata": {},
   "source": [
    "**Email Adress Generator 2**"
   ]
  },
  {
   "cell_type": "code",
   "execution_count": null,
   "id": "19f5a2b5-9348-464e-815f-2da6a44c5985",
   "metadata": {
    "jupyter": {
     "source_hidden": true
    },
    "tags": []
   },
   "outputs": [],
   "source": [
    "import random\n",
    "name = input(\"What is your name?: \").strip().lower()\n",
    "lname = input(\"What is your lastname?: \").strip().lower()\n",
    "bday = input(\"What is your birthday?: \").strip()\n",
    "domain = input(\"What domain do you prefer?: \").strip().lower()\n",
    "cters = \"_-.\"\n",
    "\n",
    "combs = np.array([name, lname, bday, cters])\n",
    "email = random.choice(combs)\n",
    "\n",
    "while True:\n",
    "    if email == name:\n",
    "        print(bday + random.choice(cters) + lname + \"@\" + domain + \".com\")\n",
    "    elif email == lname:\n",
    "        print(name + lname + random.choice(cters) + \"@\" + domain + \".com\")\n",
    "    elif email == bday:\n",
    "        print(name + lname + random.choice(cters) + \"@\" + domain + \".com\")\n",
    "        break"
   ]
  },
  {
   "cell_type": "code",
   "execution_count": null,
   "id": "5b21e41f-0707-4233-b40f-e1ff2211b97e",
   "metadata": {
    "tags": []
   },
   "outputs": [],
   "source": [
    "given = str(input(\"Enter your sentence: \"))\n",
    "given = given.split()\n",
    "acronym = \"\"\n",
    "\n",
    "for i in given:\n",
    "    acronym = acronym + str(i[0]).upper()\n",
    "    print(acronym)\n"
   ]
  }
 ],
 "metadata": {
  "kernelspec": {
   "display_name": "Python 3 (ipykernel)",
   "language": "python",
   "name": "python3"
  },
  "language_info": {
   "codemirror_mode": {
    "name": "ipython",
    "version": 3
   },
   "file_extension": ".py",
   "mimetype": "text/x-python",
   "name": "python",
   "nbconvert_exporter": "python",
   "pygments_lexer": "ipython3",
   "version": "3.9.13"
  }
 },
 "nbformat": 4,
 "nbformat_minor": 5
}
