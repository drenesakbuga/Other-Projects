{
 "cells": [
  {
   "cell_type": "markdown",
   "id": "491151a7-88e9-4e62-b56a-e4c26cb499a7",
   "metadata": {},
   "source": [
    "**Enes's Dice Simulator**"
   ]
  },
  {
   "cell_type": "code",
   "execution_count": null,
   "id": "69cdbcb2-3d92-4dc9-85f9-bd09aa9e011a",
   "metadata": {
    "tags": []
   },
   "outputs": [],
   "source": [
    "import random\n",
    "\n",
    "while True: \n",
    "    player = input('Roll with Enes! Press 1 to roll the dice')\n",
    "    if player == \"1\":\n",
    "        print(random.randint(1, 6))\n",
    "    elif player == 'End':\n",
    "        print(\"Thank you for playing!\")\n",
    "        break\n",
    "    else:\n",
    "        print(\"You made a typo! Try again.\")"
   ]
  },
  {
   "cell_type": "markdown",
   "id": "b843fc7d-af68-4dea-aef0-8d90b8255c3f",
   "metadata": {
    "tags": []
   },
   "source": [
    "**Enes's Rock, Paper, Scissors Game**"
   ]
  },
  {
   "cell_type": "code",
   "execution_count": null,
   "id": "6b3d3cf2-78f9-4b0f-9906-c494d6df1224",
   "metadata": {
    "tags": []
   },
   "outputs": [],
   "source": [
    "import random\n",
    "choices = [\"Rock\", \"Paper\", \"Scissors\"]\n",
    "computer = random.choice(choices)\n",
    "player = False\n",
    "cpu_score = 0\n",
    "player_score = 0\n",
    "while True:\n",
    "    player = input(\"Rock, Paper or  Scissors?\").capitalize()\n",
    "    \n",
    "    ## Conditions of Rock,Paper and Scissors\n",
    "    if player == computer:\n",
    "        print(\"Tie!\")\n",
    "    elif player == \"Rock\":\n",
    "        if computer == \"Paper\":\n",
    "            print(\"You lose!\", computer, \"covers\", player)\n",
    "            cpu_score+=1\n",
    "        else:\n",
    "            print(\"You win!\", player, \"smashes\", computer)\n",
    "            player_score+=1\n",
    "    elif player == \"Paper\":\n",
    "        if computer == \"Scissors\":\n",
    "            print(\"You lose!\", computer, \"cut\", player)\n",
    "            cpu_score+=1\n",
    "        else:\n",
    "            print(\"You win!\", player, \"covers\", computer)\n",
    "            player_score+=1\n",
    "    elif player == \"Scissors\":\n",
    "        if computer == \"Rock\":\n",
    "            print(\"You lose...\", computer, \"smashes\", player)\n",
    "            cpu_score+=1\n",
    "        else:\n",
    "            print(\"You win!\", player, \"cut\", computer)\n",
    "            player_score+=1\n",
    "    \n",
    "    elif player=='End':\n",
    "        print(\"Final Scores:\")\n",
    "        print(f\"CPU:{cpu_score}\")\n",
    "        print(f\"Plaer:{player_score}\")\n",
    "        break\n",
    "    \n",
    "    else:\n",
    "        print(\"You made a typo! Try again.\")\n",
    "    computer = random.choice(choices)"
   ]
  },
  {
   "cell_type": "code",
   "execution_count": null,
   "id": "730aafa7-5280-4f00-9698-a9e6065da83a",
   "metadata": {},
   "outputs": [],
   "source": []
  }
 ],
 "metadata": {
  "kernelspec": {
   "display_name": "Python 3 (ipykernel)",
   "language": "python",
   "name": "python3"
  },
  "language_info": {
   "codemirror_mode": {
    "name": "ipython",
    "version": 3
   },
   "file_extension": ".py",
   "mimetype": "text/x-python",
   "name": "python",
   "nbconvert_exporter": "python",
   "pygments_lexer": "ipython3",
   "version": "3.9.13"
  }
 },
 "nbformat": 4,
 "nbformat_minor": 5
}
